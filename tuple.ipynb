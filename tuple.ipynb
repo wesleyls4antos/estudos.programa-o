{
  "nbformat": 4,
  "nbformat_minor": 0,
  "metadata": {
    "colab": {
      "provenance": [],
      "authorship_tag": "ABX9TyObDP+We/CenxFa6gwW4D8e",
      "include_colab_link": true
    },
    "kernelspec": {
      "name": "python3",
      "display_name": "Python 3"
    },
    "language_info": {
      "name": "python"
    }
  },
  "cells": [
    {
      "cell_type": "markdown",
      "metadata": {
        "id": "view-in-github",
        "colab_type": "text"
      },
      "source": [
        "<a href=\"https://colab.research.google.com/github/wesleyls4antos/python/blob/main/tuple.ipynb\" target=\"_parent\"><img src=\"https://colab.research.google.com/assets/colab-badge.svg\" alt=\"Open In Colab\"/></a>"
      ]
    },
    {
      "cell_type": "code",
      "execution_count": 1,
      "metadata": {
        "colab": {
          "base_uri": "https://localhost:8080/"
        },
        "id": "xjB8S-E7WWBu",
        "outputId": "efd8edb3-bded-4ab8-eb90-2ba88105fa61"
      },
      "outputs": [
        {
          "output_type": "execute_result",
          "data": {
            "text/plain": [
              "('maçã', 'banana', 'laranja', 'goiaba')"
            ]
          },
          "metadata": {},
          "execution_count": 1
        }
      ],
      "source": [
        "tp_frutas = ('maçã', 'banana', 'laranja', 'goiaba')\n",
        "tp_frutas"
      ]
    },
    {
      "cell_type": "code",
      "source": [
        "lst_frutas = list(tp_frutas)\n",
        "type(lst_frutas)\n",
        "tp_frutas2 = tuple(lst_frutas)\n",
        "type(tp_frutas)"
      ],
      "metadata": {
        "colab": {
          "base_uri": "https://localhost:8080/"
        },
        "id": "dX5Z_mRoXSo1",
        "outputId": "f523c55f-03aa-4234-a5b2-9bf6cd2bb4a0"
      },
      "execution_count": 4,
      "outputs": [
        {
          "output_type": "execute_result",
          "data": {
            "text/plain": [
              "tuple"
            ]
          },
          "metadata": {},
          "execution_count": 4
        }
      ]
    },
    {
      "cell_type": "code",
      "source": [
        "\n",
        "tp_meses = ('jan', 'fev', 'mar', 'abr', 'mai', 'jun', 'jul', 'ago', 'set', 'out', 'nov', 'dez')\n",
        "tp_meses[3:6]"
      ],
      "metadata": {
        "id": "Kt-s9-AXZYa0",
        "outputId": "eaf154ae-2b77-4e63-c0d2-eee764130133",
        "colab": {
          "base_uri": "https://localhost:8080/"
        }
      },
      "execution_count": 6,
      "outputs": [
        {
          "output_type": "execute_result",
          "data": {
            "text/plain": [
              "('abr', 'mai', 'jun')"
            ]
          },
          "metadata": {},
          "execution_count": 6
        }
      ]
    },
    {
      "cell_type": "code",
      "source": [
        "uf_cod = [('PE', 81), ('RJ', 21), ('SP', 11), ('PB', 83)]\n",
        "\n",
        "sorted(uf_cod, key = lambda x : x[1])"
      ],
      "metadata": {
        "id": "Ifq8Fgoga9Si",
        "outputId": "bf579a42-7ea1-4dcd-b468-375f6748906c",
        "colab": {
          "base_uri": "https://localhost:8080/"
        }
      },
      "execution_count": 7,
      "outputs": [
        {
          "output_type": "execute_result",
          "data": {
            "text/plain": [
              "[('SP', 11), ('RJ', 21), ('PE', 81), ('PB', 83)]"
            ]
          },
          "metadata": {},
          "execution_count": 7
        }
      ]
    },
    {
      "cell_type": "code",
      "source": [
        "nome_nasc = [('Zé,', 2003),('Maria', 1998),('Alice', 2000)]\n",
        "sorted(nome_nasc, key = lambda x: x[1], reverse = True)"
      ],
      "metadata": {
        "id": "05w7TGMucVLp",
        "outputId": "2d9f5ff7-5156-4a66-86af-8325ce561cde",
        "colab": {
          "base_uri": "https://localhost:8080/"
        }
      },
      "execution_count": 8,
      "outputs": [
        {
          "output_type": "execute_result",
          "data": {
            "text/plain": [
              "[('Zé,', 2003), ('Alice', 2000), ('Maria', 1998)]"
            ]
          },
          "metadata": {},
          "execution_count": 8
        }
      ]
    },
    {
      "cell_type": "code",
      "source": [
        "def nome_idade_uf():\n",
        "  nome = \"Wesley\"\n",
        "  idade = 28\n",
        "  uf = 'RN'\n",
        "  return nome, idade, uf\n",
        "\n",
        "name, age, uf = nome_idade_uf()\n",
        "\n",
        "print(name, age, uf)"
      ],
      "metadata": {
        "id": "zM--62b0lmjz",
        "outputId": "c2691e12-eb8d-452e-b7bb-da237bf6fa34",
        "colab": {
          "base_uri": "https://localhost:8080/"
        }
      },
      "execution_count": 9,
      "outputs": [
        {
          "output_type": "stream",
          "name": "stdout",
          "text": [
            "Wesley 28 RN\n"
          ]
        }
      ]
    },
    {
      "cell_type": "code",
      "source": [
        "alunos = ('Kelly', 'Adauto', 'Marceline', 'Luana', 'Henrique')\n",
        "notas = (5.5, 8, 9, 7.5, 6.5)\n",
        "\n",
        "Av1 = tuple(zip(alunos, notas))\n",
        "\n",
        "Av1"
      ],
      "metadata": {
        "id": "DYiRNSFSnVY0",
        "outputId": "87e8d509-26d9-44ca-cf98-bb06a8e2fde9",
        "colab": {
          "base_uri": "https://localhost:8080/"
        }
      },
      "execution_count": 13,
      "outputs": [
        {
          "output_type": "execute_result",
          "data": {
            "text/plain": [
              "(('Kelly', 5.5),\n",
              " ('Adauto', 8),\n",
              " ('Marceline', 9),\n",
              " ('Luana', 7.5),\n",
              " ('Henrique', 6.5))"
            ]
          },
          "metadata": {},
          "execution_count": 13
        }
      ]
    },
    {
      "cell_type": "code",
      "source": [
        "def concatenaTupla(tp1, tp2):\n",
        "   return tp1 + tp2\n",
        "  \n",
        "a = (2, 4, 5)\n",
        "b = (6, 8, 12)\n",
        "concatenaTupla(a, b)"
      ],
      "metadata": {
        "id": "Y4M69Z7qtaZV",
        "outputId": "74cda059-2c21-4a41-b440-c401cbb97954",
        "colab": {
          "base_uri": "https://localhost:8080/"
        }
      },
      "execution_count": 18,
      "outputs": [
        {
          "output_type": "execute_result",
          "data": {
            "text/plain": [
              "(2, 4, 5, 6, 8, 12)"
            ]
          },
          "metadata": {},
          "execution_count": 18
        }
      ]
    },
    {
      "cell_type": "code",
      "source": [
        "def formatada(tupla):\n",
        "  nome, logradouro, num, bairro = tupla\n",
        "  return f'Nome:{nome}, residente a {logradouro}, {num}, {bairro}.'\n",
        "\n",
        "dadosCliente = ('Wesley', 'Rua iaia paiva', '67', 'Torre')\n",
        "\n",
        "print (formatada(dadosCliente))"
      ],
      "metadata": {
        "id": "MKITU2gWuK3l",
        "outputId": "0e5ab3fe-5ad4-455d-aa1a-6f9e75adf64d",
        "colab": {
          "base_uri": "https://localhost:8080/"
        }
      },
      "execution_count": 19,
      "outputs": [
        {
          "output_type": "stream",
          "name": "stdout",
          "text": [
            "Nome:Wesley, residente a Rua iaia paiva, 67, Torre.\n"
          ]
        }
      ]
    },
    {
      "cell_type": "code",
      "source": [
        "nome_idade = [('Zé,', 18),('Maria', 19),('Alice', 20)]\n",
        "sorted(nome_idade, key = lambda x: x[1])"
      ],
      "metadata": {
        "id": "bbSnbbUCr4Kv",
        "outputId": "e2330f28-7114-432c-8c65-d771d5983f70",
        "colab": {
          "base_uri": "https://localhost:8080/"
        }
      },
      "execution_count": 15,
      "outputs": [
        {
          "output_type": "execute_result",
          "data": {
            "text/plain": [
              "[('Zé,', 18), ('Maria', 19), ('Alice', 20)]"
            ]
          },
          "metadata": {},
          "execution_count": 15
        }
      ]
    }
  ]
}