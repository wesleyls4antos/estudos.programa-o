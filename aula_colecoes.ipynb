{
  "nbformat": 4,
  "nbformat_minor": 0,
  "metadata": {
    "colab": {
      "provenance": [],
      "authorship_tag": "ABX9TyNB56K7aXGgR8SFTkbGe033",
      "include_colab_link": true
    },
    "kernelspec": {
      "name": "python3",
      "display_name": "Python 3"
    },
    "language_info": {
      "name": "python"
    }
  },
  "cells": [
    {
      "cell_type": "markdown",
      "metadata": {
        "id": "view-in-github",
        "colab_type": "text"
      },
      "source": [
        "<a href=\"https://colab.research.google.com/github/wesleyls4antos/python/blob/main/aula_colecoes.ipynb\" target=\"_parent\"><img src=\"https://colab.research.google.com/assets/colab-badge.svg\" alt=\"Open In Colab\"/></a>"
      ]
    },
    {
      "cell_type": "code",
      "source": [
        "# 1) O dicionário a seguir contém uma relação de atletas e seus respectivos tempos em uma corrida de 100 metros.\n",
        "corrida100m = {'Zé': 10, 'marco': 9.9, 'Marta': 9.98, 'Lourdes': 10.2}\n",
        "# Crie um código em python que retorna:\n",
        "# a) Quem chegou primeiro\n",
        "# b) Quem chegou por último\n",
        "# c) Ordene os atletas do primeiro ao último lugar.\n",
        "     "
      ],
      "metadata": {
        "id": "0BalADXFzAci"
      },
      "execution_count": null,
      "outputs": []
    },
    {
      "cell_type": "code",
      "source": [
        "# 2) Escreva uma função que receba dois dicionários como entrada e retorne um novo dicionário contendo a união dos doi"
      ],
      "metadata": {
        "id": "WLeatSRyzIK7"
      },
      "execution_count": null,
      "outputs": []
    },
    {
      "cell_type": "code",
      "source": [
        "# 3) Faça um dicionário contendo, incialmente, 5 produtos de beleza, deve ter nome do produto, marca, preço e breve descrição\n",
        "# por exemplo: { 'nome': 'batom', 'marca': 'avon', 'preco': 10.99, 'descricao' : 'Batom vermelho impermeável' } "
      ],
      "metadata": {
        "id": "y3z6uF7qzMaL"
      },
      "execution_count": null,
      "outputs": []
    },
    {
      "cell_type": "code",
      "source": [
        "# 4) Em um concurso foram aplicadas duas provas A e B, das quais o resultado foi o seguinte:\n",
        "provaA = {'Andre': 8.5, 'Ana': 7.0, 'Chico': 6.5, 'Nubia': 10, 'Luana': 8}\n",
        "provaB = {'Julio': 5.5, 'Aristides': 6.0, 'Sebastiana': 9.5, 'Camila': 10, 'João': 6}\n",
        "\n",
        "# a) Crie num novo dicionário resultado_final, o qual é a junção dos dois dicionários provaA e provaB\n",
        "resultado_final={}\n",
        "resultado_final.update(provaA)\n",
        "resultado_final.update(provaB)\n",
        "\n",
        "resultado_final\n",
        "   "
      ],
      "metadata": {
        "id": "4qAgKNQYoMUG"
      },
      "execution_count": null,
      "outputs": []
    },
    {
      "cell_type": "code",
      "source": [
        "sorted(resultado_final, key = resultado_final.get)"
      ],
      "metadata": {
        "id": "Wiqyh7f6x5e_"
      },
      "execution_count": null,
      "outputs": []
    },
    {
      "cell_type": "code",
      "source": [
        "# b) Ordene o dicionário da maior para a menor nota\n",
        "sorted(resultado_final, key = resultado_final.get, reverse = True)"
      ],
      "metadata": {
        "id": "YszXr7QOx3BU"
      },
      "execution_count": null,
      "outputs": []
    },
    {
      "cell_type": "code",
      "source": [
        "for nome, nota in resultado_final.items():\n",
        "  print (f'{nome} = {nota}')"
      ],
      "metadata": {
        "id": "wzJ_cD65x_2l"
      },
      "execution_count": null,
      "outputs": []
    },
    {
      "cell_type": "code",
      "source": [
        "# c) O Gerente da comissão do concurso precisa de uma lista apenas com os nomes dos candidatos.\n",
        "candidatos = list(resultado_final.keys())\n",
        "candidatos"
      ],
      "metadata": {
        "id": "yPd_OWMHyGgN"
      },
      "execution_count": null,
      "outputs": []
    },
    {
      "cell_type": "code",
      "source": [
        "# d) O analista de dados precisa de uma lista apenas com as notas das provas.\n",
        "notas = list(resultado_final.values())\n",
        "notas"
      ],
      "metadata": {
        "id": "Mteu6zUGycFQ"
      },
      "execution_count": null,
      "outputs": []
    },
    {
      "cell_type": "code",
      "source": [
        "def candidato_nota(dicNotas, nome):\n",
        "  if nome in dicNotas:\n",
        "    return dicNotas[nome]\n",
        "  else:\n",
        "    return 'Candidato inexistente'"
      ],
      "metadata": {
        "id": "zUe-YBQ3oaUV"
      },
      "execution_count": 7,
      "outputs": []
    },
    {
      "cell_type": "code",
      "source": [
        "nomeCandidato = input('Digite seu nome: ')\n",
        "notaCandidato = candidato_nota(resultado_final, nomeCandidato)\n",
        "print (notaCandidato)\n"
      ],
      "metadata": {
        "colab": {
          "base_uri": "https://localhost:8080/"
        },
        "id": "2SI0FZHFpHJl",
        "outputId": "4b5a6028-782b-478f-cba0-ed9471b633b0"
      },
      "execution_count": 8,
      "outputs": [
        {
          "output_type": "stream",
          "name": "stdout",
          "text": [
            "Digite seu nome: Ana\n",
            "7.0\n"
          ]
        }
      ]
    }
  ]
}