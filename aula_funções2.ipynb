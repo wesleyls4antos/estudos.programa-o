{
  "nbformat": 4,
  "nbformat_minor": 0,
  "metadata": {
    "colab": {
      "provenance": [],
      "authorship_tag": "ABX9TyMPoaqC9VopGOiZltRDv3As",
      "include_colab_link": true
    },
    "kernelspec": {
      "name": "python3",
      "display_name": "Python 3"
    },
    "language_info": {
      "name": "python"
    }
  },
  "cells": [
    {
      "cell_type": "markdown",
      "metadata": {
        "id": "view-in-github",
        "colab_type": "text"
      },
      "source": [
        "<a href=\"https://colab.research.google.com/github/wesleyls4antos/python/blob/main/aula_fun%C3%A7%C3%B5es.ipynb\" target=\"_parent\"><img src=\"https://colab.research.google.com/assets/colab-badge.svg\" alt=\"Open In Colab\"/></a>"
      ]
    },
    {
      "cell_type": "code",
      "execution_count": null,
      "metadata": {
        "id": "C5vrF-qMJLar"
      },
      "outputs": [],
      "source": [
        "#função calcula media \n",
        "\n",
        "def calculaMedia(x,y,z):\n",
        "  return (x+y+z)/3\n"
      ]
    },
    {
      "cell_type": "code",
      "source": [
        "a = float(input('Nota 1 '))\n",
        "b = float(input('Nota 2 '))\n",
        "c = float(input('Nota 3 '))\n",
        "\n",
        "calculaMedia(a, b, c)\n"
      ],
      "metadata": {
        "id": "AFypPoygJ_82"
      },
      "execution_count": null,
      "outputs": []
    },
    {
      "cell_type": "code",
      "source": [
        "#Argumentos arbitrarios *args\n",
        "#Quando não se tem certeza quantos argumentos são pela função\n",
        "\n",
        "def mediaTotal(*notas):\n",
        "  soma = 0\n",
        "  for nota in notas:\n",
        "    soma += nota\n",
        "  media = soma/len(notas)\n",
        "  print('A media é: ', media)"
      ],
      "metadata": {
        "id": "QX86iV1xMXzG"
      },
      "execution_count": null,
      "outputs": []
    },
    {
      "cell_type": "code",
      "source": [
        "mediaTotal(6,6,7,8,9,9)"
      ],
      "metadata": {
        "id": "8vtg1p5yNzwW"
      },
      "execution_count": null,
      "outputs": []
    },
    {
      "cell_type": "code",
      "source": [
        "#Recebe varios numeros e retorna o maior.\n",
        "\n",
        "def retornaMaior(*numeros):\n",
        " maior = 0\n",
        " for num in numeros:\n",
        "  if (num >= maior):\n",
        "    maior = num\n",
        " return maior\n",
        "   "
      ],
      "metadata": {
        "id": "vn0RsZmhPWuX"
      },
      "execution_count": null,
      "outputs": []
    },
    {
      "cell_type": "code",
      "source": [
        "retornaMaior(2, 4, 5, 6, 8, 20)"
      ],
      "metadata": {
        "id": "_tSOjtEwa1r9"
      },
      "execution_count": null,
      "outputs": []
    },
    {
      "cell_type": "code",
      "source": [
        "def returnMaior(numeros):\n",
        "  return max(numeros)"
      ],
      "metadata": {
        "id": "ZCfF2W-Tco6H"
      },
      "execution_count": null,
      "outputs": []
    },
    {
      "cell_type": "code",
      "source": [
        "notas = [8, 9, 4, 5, 6, 8, 3, 10]\n",
        "\n",
        "returnMaior(notas)"
      ],
      "metadata": {
        "id": "q-99lixDc6Nu"
      },
      "execution_count": null,
      "outputs": []
    },
    {
      "cell_type": "code",
      "source": [
        "#Valor de parametro padrão\n",
        "def nacionalidade(country = \"cuba\"):\n",
        "  print('Eu nasci em: '+ country)"
      ],
      "metadata": {
        "id": "gwcsdgzeenRy"
      },
      "execution_count": null,
      "outputs": []
    },
    {
      "cell_type": "code",
      "source": [
        "nacionalidade('BrAsil')\n",
        "nacionalidade('França')\n",
        "nacionalidade('vietina')\n",
        "nacionalidade()"
      ],
      "metadata": {
        "id": "tczgm1VwfLLM"
      },
      "execution_count": null,
      "outputs": []
    },
    {
      "cell_type": "code",
      "source": [
        "def soma(a, b):\n",
        "  return a + b\n",
        "\n",
        "soma(2,21)\n"
      ],
      "metadata": {
        "id": "glSAf9UFfmHR"
      },
      "execution_count": null,
      "outputs": []
    },
    {
      "cell_type": "code",
      "source": [
        "def valorAbsoluto(num):\n",
        "  if(num < 0):\n",
        "   num = num * -1\n",
        "  return num\n"
      ],
      "metadata": {
        "id": "kTlR3f17hcsQ"
      },
      "execution_count": null,
      "outputs": []
    },
    {
      "cell_type": "code",
      "source": [
        "valorAbsoluto(15)"
      ],
      "metadata": {
        "colab": {
          "base_uri": "https://localhost:8080/"
        },
        "id": "8YpbbtBSjHhi",
        "outputId": "4e783376-a77f-4bb9-dee0-162b5d7cde48"
      },
      "execution_count": null,
      "outputs": [
        {
          "output_type": "execute_result",
          "data": {
            "text/plain": [
              "15"
            ]
          },
          "metadata": {},
          "execution_count": 53
        }
      ]
    },
    {
      "cell_type": "code",
      "source": [
        "def maiorque3(lista):\n",
        "  nvlista = []\n",
        "  for item in lista:\n",
        "    if(len(item) > 3):\n",
        "      nvlista.append(item)\n",
        "      return nvlista"
      ],
      "metadata": {
        "id": "G1p9TqJUjkGa"
      },
      "execution_count": null,
      "outputs": []
    },
    {
      "cell_type": "code",
      "source": [
        "frutas = ['mangaba', 'uva', 'pinha']\n",
        "maiorque3(frutas)"
      ],
      "metadata": {
        "id": "snj9PzFnk1TM"
      },
      "execution_count": null,
      "outputs": []
    }
  ]
}
