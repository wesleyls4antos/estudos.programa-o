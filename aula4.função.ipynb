{
  "nbformat": 4,
  "nbformat_minor": 0,
  "metadata": {
    "colab": {
      "provenance": [],
      "authorship_tag": "ABX9TyOzzYvF+36TjsWowdZ1zOzQ",
      "include_colab_link": true
    },
    "kernelspec": {
      "name": "python3",
      "display_name": "Python 3"
    },
    "language_info": {
      "name": "python"
    }
  },
  "cells": [
    {
      "cell_type": "markdown",
      "metadata": {
        "id": "view-in-github",
        "colab_type": "text"
      },
      "source": [
        "<a href=\"https://colab.research.google.com/github/wesleyls4antos/python/blob/main/aula4.fun%C3%A7%C3%A3o.ipynb\" target=\"_parent\"><img src=\"https://colab.research.google.com/assets/colab-badge.svg\" alt=\"Open In Colab\"/></a>"
      ]
    },
    {
      "cell_type": "code",
      "execution_count": 1,
      "metadata": {
        "id": "WMvlkSeEJviG"
      },
      "outputs": [],
      "source": [
        "def tratamNome(pronome, nome):\n",
        "  print(pronome, nome)"
      ]
    },
    {
      "cell_type": "code",
      "source": [
        "tratamNome('Doutor', \"Wes\")"
      ],
      "metadata": {
        "colab": {
          "base_uri": "https://localhost:8080/"
        },
        "id": "f-8je8aVKOeN",
        "outputId": "1282d0b5-5d5f-435a-f5b1-d09857bad807"
      },
      "execution_count": 2,
      "outputs": [
        {
          "output_type": "stream",
          "name": "stdout",
          "text": [
            "Doutor Wes\n"
          ]
        }
      ]
    },
    {
      "cell_type": "code",
      "source": [
        "def nomeNascimento(nome, nascimento):\n",
        "  idade = 2023 - nascimento\n",
        "  print(nome,idade, 'anos')\n",
        "\n",
        "    "
      ],
      "metadata": {
        "id": "ek_RUkVWK4Wt"
      },
      "execution_count": 16,
      "outputs": []
    },
    {
      "cell_type": "code",
      "source": [
        "nomeNascimento( 'Wesley', 2003)"
      ],
      "metadata": {
        "colab": {
          "base_uri": "https://localhost:8080/"
        },
        "id": "Qo-am36JL72M",
        "outputId": "f9d49ed2-31fc-4a5f-a49f-fabd5d98a485"
      },
      "execution_count": 17,
      "outputs": [
        {
          "output_type": "stream",
          "name": "stdout",
          "text": [
            "Wesley 20 anos\n"
          ]
        }
      ]
    },
    {
      "cell_type": "code",
      "source": [
        "def formaIdeal(altura, peso):\n",
        "  print(peso/altura**2)\n",
        "  "
      ],
      "metadata": {
        "id": "cJe2EpFuOgW8"
      },
      "execution_count": 18,
      "outputs": []
    },
    {
      "cell_type": "code",
      "source": [
        "formaIdeal(1.69,70)"
      ],
      "metadata": {
        "colab": {
          "base_uri": "https://localhost:8080/"
        },
        "id": "xfes-O9aPvbS",
        "outputId": "504bd956-5517-4d3d-c42f-b50fe7825bac"
      },
      "execution_count": 20,
      "outputs": [
        {
          "output_type": "stream",
          "name": "stdout",
          "text": [
            "24.508945765204302\n"
          ]
        }
      ]
    },
    {
      "cell_type": "code",
      "source": [
        "def formaIdeal(altura, peso):\n",
        "  return peso/altura**2\n",
        "  "
      ],
      "metadata": {
        "id": "IJV6XX3aQwMX"
      },
      "execution_count": 21,
      "outputs": []
    },
    {
      "cell_type": "code",
      "source": [
        "formaIdeal(1.69,70) > 30"
      ],
      "metadata": {
        "colab": {
          "base_uri": "https://localhost:8080/"
        },
        "id": "RDWWyWmtQ5_Z",
        "outputId": "1c7ef739-3f80-455f-db29-9378a92a41c9"
      },
      "execution_count": 23,
      "outputs": [
        {
          "output_type": "execute_result",
          "data": {
            "text/plain": [
              "False"
            ]
          },
          "metadata": {},
          "execution_count": 23
        }
      ]
    },
    {
      "cell_type": "code",
      "source": [
        "#o calculo de juros Simples é dado pela Fórmula:\n",
        "# j = c * I * t\n",
        "#sendo:\n",
        "# j = juros simples\n",
        "# c = capital inicial\n",
        "# i = taxa de juros \n",
        "# t = tempo de aplicação \n",
        "# crie uma função que recebe um valor de empréstimo e o \n",
        "#tempo e retorne qunato será pago de juros ao final do período\n",
        "#use uma taxa de juros de 2.5%"
      ],
      "metadata": {
        "id": "WdKKocQDYbRL"
      },
      "execution_count": null,
      "outputs": []
    },
    {
      "cell_type": "code",
      "source": [
        "def jurosSimples(valor, tempo):\n",
        "  return valor * 0.025 * tempo\n"
      ],
      "metadata": {
        "id": "Pe9v_Rshbhr-"
      },
      "execution_count": 24,
      "outputs": []
    },
    {
      "cell_type": "code",
      "source": [
        "jurosSimples(1000, 5)"
      ],
      "metadata": {
        "colab": {
          "base_uri": "https://localhost:8080/"
        },
        "id": "nV3QtpeWdBA3",
        "outputId": "edd5ba1f-5bf0-48ab-a904-cd8509e3ea3e"
      },
      "execution_count": 25,
      "outputs": [
        {
          "output_type": "execute_result",
          "data": {
            "text/plain": [
              "125.0"
            ]
          },
          "metadata": {},
          "execution_count": 25
        }
      ]
    },
    {
      "cell_type": "code",
      "source": [
        "def valorTotalEmprestimo(valor, tempo):\n",
        "  return valor + jurosSimples(valor, tempo)"
      ],
      "metadata": {
        "id": "5GfBsj97diBN"
      },
      "execution_count": 26,
      "outputs": []
    },
    {
      "cell_type": "code",
      "source": [
        "valorTotalEmprestimo(1000,12)"
      ],
      "metadata": {
        "colab": {
          "base_uri": "https://localhost:8080/"
        },
        "id": "UZU8HnDaeEd5",
        "outputId": "e7c157d7-48d0-4d0f-de81-6c7d3e7393b7"
      },
      "execution_count": 29,
      "outputs": [
        {
          "output_type": "execute_result",
          "data": {
            "text/plain": [
              "1300.0"
            ]
          },
          "metadata": {},
          "execution_count": 29
        }
      ]
    },
    {
      "cell_type": "code",
      "source": [
        "#programa que solicita o valor do empresrtimo e o tempo\n",
        "valor = float(input('Digite o valor do emprestimo '))\n",
        "tempo = int(input('Em quanto tempo'))\n",
        "\n",
        "valorTotalEmprestimo(valor, tempo)"
      ],
      "metadata": {
        "colab": {
          "base_uri": "https://localhost:8080/"
        },
        "id": "pbl1JdJZfYQG",
        "outputId": "3b1f58ba-eb71-4ca2-8437-04f96d755f8e"
      },
      "execution_count": 30,
      "outputs": [
        {
          "name": "stdout",
          "output_type": "stream",
          "text": [
            "Digite o valor do emprestimo 2500\n",
            "Em quanto tempo12\n"
          ]
        },
        {
          "output_type": "execute_result",
          "data": {
            "text/plain": [
              "3250.0"
            ]
          },
          "metadata": {},
          "execution_count": 30
        }
      ]
    }
  ]
}