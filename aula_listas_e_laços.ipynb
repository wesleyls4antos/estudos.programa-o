{
  "nbformat": 4,
  "nbformat_minor": 0,
  "metadata": {
    "colab": {
      "provenance": [],
      "authorship_tag": "ABX9TyPsqAo3Ub7cypUkWTPyCUE0",
      "include_colab_link": true
    },
    "kernelspec": {
      "name": "python3",
      "display_name": "Python 3"
    },
    "language_info": {
      "name": "python"
    }
  },
  "cells": [
    {
      "cell_type": "markdown",
      "metadata": {
        "id": "view-in-github",
        "colab_type": "text"
      },
      "source": [
        "<a href=\"https://colab.research.google.com/github/wesleyls4antos/estudos.programa-o/blob/main/aula_listas_e_la%C3%A7os.ipynb\" target=\"_parent\"><img src=\"https://colab.research.google.com/assets/colab-badge.svg\" alt=\"Open In Colab\"/></a>"
      ]
    },
    {
      "cell_type": "code",
      "source": [
        "#minha primeira lista\n",
        "num = [20, 8, 9,6, 1, 5, 17]"
      ],
      "metadata": {
        "id": "_rGVdYvyAJ2y"
      },
      "execution_count": 4,
      "outputs": []
    },
    {
      "cell_type": "code",
      "source": [
        "#tamanho da lista\n",
        "len(num)"
      ],
      "metadata": {
        "colab": {
          "base_uri": "https://localhost:8080/"
        },
        "id": "MFbcyIqdBcVr",
        "outputId": "376ff922-37f5-4f9c-b80a-bb6f66cd6a33"
      },
      "execution_count": 5,
      "outputs": [
        {
          "output_type": "execute_result",
          "data": {
            "text/plain": [
              "7"
            ]
          },
          "metadata": {},
          "execution_count": 5
        }
      ]
    },
    {
      "cell_type": "code",
      "source": [
        "num[5]"
      ],
      "metadata": {
        "colab": {
          "base_uri": "https://localhost:8080/"
        },
        "id": "Vw39RafgCbjG",
        "outputId": "7296ea3d-f069-4b0f-93a8-c5eab54454a1"
      },
      "execution_count": 11,
      "outputs": [
        {
          "output_type": "execute_result",
          "data": {
            "text/plain": [
              "5"
            ]
          },
          "metadata": {},
          "execution_count": 11
        }
      ]
    },
    {
      "cell_type": "code",
      "source": [
        "alunos = ['Carlos', 'Marina', 'Samuel',' Davi','gabriel']\n",
        "alunos[3]"
      ],
      "metadata": {
        "colab": {
          "base_uri": "https://localhost:8080/",
          "height": 35
        },
        "id": "yzwetGB5DMBu",
        "outputId": "405b4628-5541-441e-8710-7b8b4abf44cc"
      },
      "execution_count": 21,
      "outputs": [
        {
          "output_type": "execute_result",
          "data": {
            "text/plain": [
              "' Davi'"
            ],
            "application/vnd.google.colaboratory.intrinsic+json": {
              "type": "string"
            }
          },
          "metadata": {},
          "execution_count": 21
        }
      ]
    },
    {
      "cell_type": "code",
      "source": [
        "len(alunos)"
      ],
      "metadata": {
        "colab": {
          "base_uri": "https://localhost:8080/"
        },
        "id": "h3hvErxpFrlZ",
        "outputId": "d467e410-a53f-45dc-fe64-bec58e6a2063"
      },
      "execution_count": 25,
      "outputs": [
        {
          "output_type": "execute_result",
          "data": {
            "text/plain": [
              "5"
            ]
          },
          "metadata": {},
          "execution_count": 25
        }
      ]
    },
    {
      "cell_type": "code",
      "source": [
        "alunos[3] = 'Ivan'\n",
        "alunos"
      ],
      "metadata": {
        "colab": {
          "base_uri": "https://localhost:8080/"
        },
        "id": "MGvIAT5eGAQy",
        "outputId": "e203012e-e3b2-4037-f930-07e61b1ea7a3"
      },
      "execution_count": 27,
      "outputs": [
        {
          "output_type": "execute_result",
          "data": {
            "text/plain": [
              "['Carlos', 'Marina', 'Samuel', 'Ivan', 'gabriel', 'Alex']"
            ]
          },
          "metadata": {},
          "execution_count": 27
        }
      ]
    },
    {
      "cell_type": "code",
      "source": [
        "alunos.append('Alex')\n",
        "alunos"
      ],
      "metadata": {
        "colab": {
          "base_uri": "https://localhost:8080/"
        },
        "id": "ClRblfewF2Tj",
        "outputId": "9515d2d4-79be-4a2e-c1d9-b2f4177479be"
      },
      "execution_count": 28,
      "outputs": [
        {
          "output_type": "execute_result",
          "data": {
            "text/plain": [
              "['Carlos', 'Marina', 'Samuel', 'Ivan', 'gabriel', 'Alex', 'Alex']"
            ]
          },
          "metadata": {},
          "execution_count": 28
        }
      ]
    },
    {
      "cell_type": "code",
      "source": [
        "alunos.append(input('Digite o nome:'))\n"
      ],
      "metadata": {
        "colab": {
          "base_uri": "https://localhost:8080/"
        },
        "id": "DdCgUv40GR_s",
        "outputId": "50d2eef7-a338-4ee1-ee6a-8a84207403d1"
      },
      "execution_count": 32,
      "outputs": [
        {
          "name": "stdout",
          "output_type": "stream",
          "text": [
            "Digite o nome:Vitor\n"
          ]
        }
      ]
    },
    {
      "cell_type": "code",
      "source": [
        "if 'Marina' in alunos:\n",
        "  print(\"Tem Marina sim MAN\")\n",
        "else:\n",
        "    print(\"tewm Marina não \")"
      ],
      "metadata": {
        "colab": {
          "base_uri": "https://localhost:8080/"
        },
        "id": "JDzyKw5BM2Gt",
        "outputId": "e0ff0b88-ab99-4979-b6ad-5ce0bac96fa7"
      },
      "execution_count": 34,
      "outputs": [
        {
          "output_type": "stream",
          "name": "stdout",
          "text": [
            "Tem Marina sim MAN\n"
          ]
        }
      ]
    },
    {
      "cell_type": "code",
      "source": [
        "nome = input('Digite o nome:')\n",
        "if nome in alunos:\n",
        "  print('tem ', nome)\n",
        "else:\n",
        "  print('não tem', nome)"
      ],
      "metadata": {
        "colab": {
          "base_uri": "https://localhost:8080/"
        },
        "id": "uQ2csncrPx2M",
        "outputId": "99169828-8779-4f15-fd06-e48a37f046a5"
      },
      "execution_count": 38,
      "outputs": [
        {
          "output_type": "stream",
          "name": "stdout",
          "text": [
            "Digite o nome:Brendo\n",
            "não tem Brendo\n"
          ]
        }
      ]
    },
    {
      "cell_type": "code",
      "source": [
        "numeros = []\n",
        "for num in range(20):\n",
        "  numeros.append(num)\n",
        "numeros"
      ],
      "metadata": {
        "colab": {
          "base_uri": "https://localhost:8080/"
        },
        "id": "sig29kB7THVT",
        "outputId": "9ef17bcb-ea19-453b-8094-8dccd705360f"
      },
      "execution_count": 60,
      "outputs": [
        {
          "output_type": "execute_result",
          "data": {
            "text/plain": [
              "[0, 1, 2, 3, 4, 5, 6, 7, 8, 9, 10, 11, 12, 13, 14, 15, 16, 17, 18, 19]"
            ]
          },
          "metadata": {},
          "execution_count": 60
        }
      ]
    },
    {
      "cell_type": "code",
      "source": [
        "for num in numeros:\n",
        " if numeros[num]%2 == 0:\n",
        "   print(numeros[num])\n"
      ],
      "metadata": {
        "colab": {
          "base_uri": "https://localhost:8080/"
        },
        "id": "cS4b0wd9XMWS",
        "outputId": "2688dd42-35aa-4061-abd4-da60cd506020"
      },
      "execution_count": 61,
      "outputs": [
        {
          "output_type": "stream",
          "name": "stdout",
          "text": [
            "0\n",
            "2\n",
            "4\n",
            "6\n",
            "8\n",
            "10\n",
            "12\n",
            "14\n",
            "16\n",
            "18\n"
          ]
        }
      ]
    },
    {
      "cell_type": "code",
      "source": [
        "dobro = []\n",
        "for num in numeros:\n",
        " dobro.append(numeros[num]*2)\n",
        "dobro\n"
      ],
      "metadata": {
        "colab": {
          "base_uri": "https://localhost:8080/"
        },
        "id": "-nQpz5xMVDE8",
        "outputId": "8166eabd-9818-4cdf-9304-ef0239d92f89"
      },
      "execution_count": 58,
      "outputs": [
        {
          "output_type": "execute_result",
          "data": {
            "text/plain": [
              "[0, 2, 4, 6, 8, 10, 12, 14, 16, 18, 20, 22, 24, 26, 28, 30, 32, 34, 36, 38]"
            ]
          },
          "metadata": {},
          "execution_count": 58
        }
      ]
    }
  ]
}