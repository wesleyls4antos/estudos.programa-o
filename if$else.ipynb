{
  "nbformat": 4,
  "nbformat_minor": 0,
  "metadata": {
    "colab": {
      "provenance": [],
      "authorship_tag": "ABX9TyNpgThnEHSun3AkR7H1F+eH",
      "include_colab_link": true
    },
    "kernelspec": {
      "name": "python3",
      "display_name": "Python 3"
    },
    "language_info": {
      "name": "python"
    }
  },
  "cells": [
    {
      "cell_type": "markdown",
      "metadata": {
        "id": "view-in-github",
        "colab_type": "text"
      },
      "source": [
        "<a href=\"https://colab.research.google.com/github/wesleyls4antos/python/blob/main/if%24else.ipynb\" target=\"_parent\"><img src=\"https://colab.research.google.com/assets/colab-badge.svg\" alt=\"Open In Colab\"/></a>"
      ]
    },
    {
      "cell_type": "code",
      "execution_count": 13,
      "metadata": {
        "colab": {
          "base_uri": "https://localhost:8080/"
        },
        "id": "jjlwmzDg-WnM",
        "outputId": "abc870f8-c137-4454-a5f9-36dfbfe0f063"
      },
      "outputs": [
        {
          "output_type": "stream",
          "name": "stdout",
          "text": [
            "Digite um numero a 6\n",
            "Digite outro numer b 6\n",
            "Digite mais um numero c 11\n",
            "a+b Maior que c\n"
          ]
        }
      ],
      "source": [
        "#Desenvolva um algoritmo que solicite três números A, B e C. Imprima na tela se A+B é menor que C.\n",
        "a = int(input(\"Digite um numero a \"))\n",
        "b = int(input(\"Digite outro numer b \"))\n",
        "c = int(input(\"Digite mais um numero c \"))\n",
        "\n",
        "if (a+b < c):\n",
        "   print('a+b menor que c')\n",
        "else:\n",
        "   print('a+b Maior que c')\n"
      ]
    },
    {
      "cell_type": "code",
      "source": [
        "#Desenvolva um programa que recebe um número e informa na tela se é par ou impar.\n",
        "\n",
        "n = int(input('Insira um numero:'))\n",
        "\n",
        "if (n % 2 == 0):\n",
        "  print('É par')\n",
        "else:\n",
        " print('É impa')"
      ],
      "metadata": {
        "colab": {
          "base_uri": "https://localhost:8080/"
        },
        "id": "widMTSBzBFsM",
        "outputId": "bd640eca-0e4f-4049-e0c2-cd7086fb1a31"
      },
      "execution_count": 15,
      "outputs": [
        {
          "output_type": "stream",
          "name": "stdout",
          "text": [
            "Insira um numero:5\n",
            "É impa\n"
          ]
        }
      ]
    },
    {
      "cell_type": "code",
      "source": [
        "#Escreva um algoritmo que recebe um número e diz se ele é múltiplo de 3.\n",
        "num = int(input('Insira um numero:'))\n",
        "\n",
        "if (num % 3 == 0):\n",
        "  print('É multiplo de 3')\n",
        "else:\n",
        " print('Não é multiplo de 3')"
      ],
      "metadata": {
        "colab": {
          "base_uri": "https://localhost:8080/"
        },
        "id": "XswwJlCLCWMf",
        "outputId": "6f59d4b7-36fb-49e2-9f1d-f2a7687da750"
      },
      "execution_count": 17,
      "outputs": [
        {
          "output_type": "stream",
          "name": "stdout",
          "text": [
            "Insira um numero:3\n",
            "É multiplo de 3\n"
          ]
        }
      ]
    },
    {
      "cell_type": "code",
      "source": [
        "#Escreva um algoritmo que solicita o nome da pessoa, e o ano de nascimento. Então, calcula a idade e, se for menor que 18 anos, solicita o nome da Mãe.\n",
        "\n",
        "nome = (input('Insira seu nome: '))\n",
        "ano = int(input('Insira o ano de nascimento: '))\n",
        "idade = 2023 - ano \n",
        "if (idade < 18):\n",
        "  print('Insira o nome de sua mãe: ')\n",
        "else:\n",
        "  print(idade, 'anos')\n"
      ],
      "metadata": {
        "colab": {
          "base_uri": "https://localhost:8080/"
        },
        "id": "nSgBeamNDHKQ",
        "outputId": "ab734042-ec77-4d1c-875a-0858a92400ad"
      },
      "execution_count": 26,
      "outputs": [
        {
          "output_type": "stream",
          "name": "stdout",
          "text": [
            "Insira seu nome: Wesley\n",
            "Insira o ano de nascimento: 2003\n",
            "20 anos\n"
          ]
        }
      ]
    },
    {
      "cell_type": "code",
      "source": [
        "#Faça um algoritmo que solicita um número, e retorna: O dobro caso o número seja positivo, o triplo caso o número seja negativo.\n",
        "\n",
        "n = int(input(\"Insira um numero: \"))\n",
        "\n",
        "if (n < 0):\n",
        "  print(n*3)\n",
        "else:\n",
        "  print(n*2)"
      ],
      "metadata": {
        "colab": {
          "base_uri": "https://localhost:8080/"
        },
        "id": "Jpo9vEPqFjaw",
        "outputId": "113e33eb-39a8-4ee5-f454-72028ba09b0b"
      },
      "execution_count": 29,
      "outputs": [
        {
          "output_type": "stream",
          "name": "stdout",
          "text": [
            "Insira um numero -10\n",
            "-30\n"
          ]
        }
      ]
    },
    {
      "cell_type": "code",
      "source": [
        "#Escreva um algoritmo que recebe 2 valores inteiros e escreve na tela qual é o maior.\n",
        "v = int(input('Insira um valor: '))\n",
        "v2 = int(input('Insira outro valor: '))\n",
        "\n",
        "if(v > v2):\n",
        "  print('v maior que v2')\n",
        "else:\n",
        "  print('v2 maior que v')\n",
        "  \n",
        "\n"
      ],
      "metadata": {
        "colab": {
          "base_uri": "https://localhost:8080/"
        },
        "id": "gTTws1ssHGH6",
        "outputId": "9bccac29-4450-49fd-af35-3ce2809c3be7"
      },
      "execution_count": 30,
      "outputs": [
        {
          "output_type": "stream",
          "name": "stdout",
          "text": [
            "Insira um valor: 5\n",
            "Insira outro valor: 6\n",
            "v2 maior que v\n"
          ]
        }
      ]
    }
  ]
}