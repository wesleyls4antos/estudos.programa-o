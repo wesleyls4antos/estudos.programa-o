{
  "nbformat": 4,
  "nbformat_minor": 0,
  "metadata": {
    "colab": {
      "provenance": [],
      "authorship_tag": "ABX9TyMbZlvivLJgahT7oIfYSvF4",
      "include_colab_link": true
    },
    "kernelspec": {
      "name": "python3",
      "display_name": "Python 3"
    },
    "language_info": {
      "name": "python"
    }
  },
  "cells": [
    {
      "cell_type": "markdown",
      "metadata": {
        "id": "view-in-github",
        "colab_type": "text"
      },
      "source": [
        "<a href=\"https://colab.research.google.com/github/wesleyls4antos/estudos.python/blob/main/la%C3%A7os-while.ipynb\" target=\"_parent\"><img src=\"https://colab.research.google.com/assets/colab-badge.svg\" alt=\"Open In Colab\"/></a>"
      ]
    },
    {
      "cell_type": "code",
      "source": [
        "num = int(input('Digite um numero maior que 0 '))\n",
        "cont = 0\n",
        "soma = 0 \n",
        "while(cont <= num):\n",
        "  soma += cont\n",
        "  cont+=1\n",
        "print(soma)"
      ],
      "metadata": {
        "colab": {
          "base_uri": "https://localhost:8080/"
        },
        "id": "t7VTi82cMUq3",
        "outputId": "8d05e7fa-cff3-4fbb-e159-192d95171482"
      },
      "execution_count": 35,
      "outputs": [
        {
          "output_type": "stream",
          "name": "stdout",
          "text": [
            "Digite um numero maior que 0 2\n",
            "3\n"
          ]
        }
      ]
    },
    {
      "cell_type": "code",
      "source": [
        "senha = 'barriu123'\n",
        "userPass = input('Digite sua senha:') \n",
        "cont = 0 \n",
        "while(cont < 3):\n",
        "  cont+1\n",
        "  if(userPass == senha):\n",
        "    break\n",
        "  else:\n",
        "    print('Senha errada')\n",
        "    userPass = input(' Tente novamente')\n",
        "\n",
        "\n",
        "if (cont == 3):\n",
        "  print('Sua senha foi bloqueada burro')\n",
        "else:\n",
        "    print('Seja bem vindo ao sistema')\n"
      ],
      "metadata": {
        "colab": {
          "base_uri": "https://localhost:8080/"
        },
        "id": "gox3nPiTSU6H",
        "outputId": "392946e1-484e-44b0-bce4-a5a8882062a1"
      },
      "execution_count": 34,
      "outputs": [
        {
          "output_type": "stream",
          "name": "stdout",
          "text": [
            "Digite sua senha:barriu123\n",
            "Seja bem vindo ao sistema\n"
          ]
        }
      ]
    },
    {
      "cell_type": "code",
      "source": [
        "nome = input('Digite seu nome!')\n",
        "if(nome.isdigit()):\n",
        "  print('Entrada incorreta')\n",
        "else:\n",
        "  print(f'o nome {nome} foi inserido com sucesso')"
      ],
      "metadata": {
        "colab": {
          "base_uri": "https://localhost:8080/"
        },
        "id": "jecwdzCZZH8M",
        "outputId": "d3e8d12b-3702-4283-ce97-bd26ca25f27c"
      },
      "execution_count": 36,
      "outputs": [
        {
          "output_type": "stream",
          "name": "stdout",
          "text": [
            "Digite seu nome!Lucas\n",
            "o nome Lucas foi inserido com sucesso\n"
          ]
        }
      ]
    },
    {
      "cell_type": "code",
      "source": [
        "animais = []\n",
        "animal = input('Digite um nome de animal: ')\n",
        "\n",
        "while (animalisdigit() == False):\n",
        "  animais.append(animal)\n",
        "  animal = input('Digite um nome de aimal')\n",
        "\n",
        "animais\n"
      ],
      "metadata": {
        "id": "4tubWpxmbVGV"
      },
      "execution_count": null,
      "outputs": []
    }
  ]
}